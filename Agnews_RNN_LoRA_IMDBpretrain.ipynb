{
 "cells": [
  {
   "cell_type": "code",
   "execution_count": 4,
   "id": "40f42a32",
   "metadata": {},
   "outputs": [],
   "source": [
    "import torch\n",
    "import torch.nn as nn\n",
    "from torch.utils.data import DataLoader\n",
    "from datasets import load_dataset\n",
    "from transformers import BertTokenizer\n",
    "from loralib.layers import Linear\n",
    "from loralib.utils import mark_only_lora_as_trainable"
   ]
  },
  {
   "cell_type": "markdown",
   "id": "0d6d888b",
   "metadata": {},
   "source": [
    "upload dataset"
   ]
  },
  {
   "cell_type": "code",
   "execution_count": 5,
   "id": "c67e41f0",
   "metadata": {},
   "outputs": [
    {
     "name": "stderr",
     "output_type": "stream",
     "text": [
      "Using the latest cached version of the dataset since ag_news couldn't be found on the Hugging Face Hub\n",
      "Found the latest cached dataset configuration 'default' at C:\\Users\\Garry\\.cache\\huggingface\\datasets\\ag_news\\default\\0.0.0\\eb185aade064a813bc0b7f42de02595523103ca4 (last modified on Sat Aug 16 16:10:13 2025).\n"
     ]
    },
    {
     "name": "stdout",
     "output_type": "stream",
     "text": [
      "{'text': \"Wall St. Bears Claw Back Into the Black (Reuters) Reuters - Short-sellers, Wall Street's dwindling\\\\band of ultra-cynics, are seeing green again.\", 'label': 2}\n"
     ]
    }
   ],
   "source": [
    "dataset = load_dataset(\"ag_news\")\n",
    "print(dataset[\"train\"][0])"
   ]
  },
  {
   "cell_type": "markdown",
   "id": "f8aaa2aa",
   "metadata": {},
   "source": [
    "BERT pre-training"
   ]
  },
  {
   "cell_type": "code",
   "execution_count": 6,
   "id": "85a48629",
   "metadata": {},
   "outputs": [],
   "source": [
    "tokenizer = BertTokenizer.from_pretrained('bert-base-uncased') # BERT分词器分词\n",
    "\n",
    "def encode_with_bert(example):\n",
    "    tokens = tokenizer(\n",
    "        example[\"text\"],\n",
    "        truncation=True,\n",
    "        padding='max_length',\n",
    "        max_length=128,\n",
    "    )\n",
    "    return {\n",
    "        \"input_ids\": tokens[\"input_ids\"],\n",
    "        \"attention_mask\": tokens[\"attention_mask\"],\n",
    "        \"label\": example[\"label\"]\n",
    "    }\n",
    "\n",
    "encoded_dataset = dataset.map(encode_with_bert, batched=True) # Hugging Face Datasets库的map函数批量处理数据\n",
    "\n",
    "encoded_dataset.set_format(type=\"torch\", columns=[\"input_ids\", \"attention_mask\", \"label\"]) # 设置数据格式为PyTorch张量，并指定需要的列\n"
   ]
  },
  {
   "cell_type": "markdown",
   "id": "8d0d1ce4",
   "metadata": {},
   "source": [
    "Prepare DataLoader"
   ]
  },
  {
   "cell_type": "code",
   "execution_count": 7,
   "id": "21045cce",
   "metadata": {},
   "outputs": [],
   "source": [
    "train_loader = DataLoader(encoded_dataset[\"train\"], batch_size=32, shuffle=True)\n",
    "test_loader = DataLoader(encoded_dataset[\"test\"], batch_size=32)"
   ]
  },
  {
   "cell_type": "markdown",
   "id": "27078686",
   "metadata": {},
   "source": [
    "Define RNN model with LoRA classification head"
   ]
  },
  {
   "cell_type": "code",
   "execution_count": 8,
   "id": "90b2f518",
   "metadata": {},
   "outputs": [],
   "source": [
    "class LoRARNNCell(nn.Module):\n",
    "    def __init__(self, input_size, hidden_size):\n",
    "        super().__init__()\n",
    "        self.i2h = Linear(input_size, hidden_size, r=8)\n",
    "        self.h2h = Linear(hidden_size, hidden_size, r=8)\n",
    "\n",
    "    def forward(self, x, h):\n",
    "        return torch.tanh(self.i2h(x) + self.h2h(h))\n",
    "\n",
    "class TextRNNWithLoRA(nn.Module):\n",
    "    def __init__(self, vocab_size, embed_dim, hidden_dim, num_classes):\n",
    "        super().__init__()\n",
    "        self.embedding = nn.Embedding(vocab_size, embed_dim)\n",
    "        self.rnn_cell = LoRARNNCell(embed_dim, hidden_dim)\n",
    "        self.hidden_dim = hidden_dim\n",
    "        self.fc = nn.Linear(hidden_dim, num_classes)\n",
    "\n",
    "    def forward(self, input_ids):\n",
    "        embedded = self.embedding(input_ids)\n",
    "        batch_size, seq_len, _ = embedded.size()\n",
    "        h_t = torch.zeros(batch_size, self.hidden_dim, device=embedded.device)\n",
    "\n",
    "        for t in range(seq_len):\n",
    "            h_t = self.rnn_cell(embedded[:, t, :], h_t)\n",
    "\n",
    "        return self.fc(h_t)\n"
   ]
  },
  {
   "cell_type": "code",
   "execution_count": 9,
   "id": "84a37eb5",
   "metadata": {},
   "outputs": [],
   "source": [
    "# Initialize model\n",
    "model = TextRNNWithLoRA(vocab_size=tokenizer.vocab_size, embed_dim=128, hidden_dim=128, num_classes=4)\n",
    "# Load pretrained weights from IMDB except fc\n",
    "state_dict = torch.load(\"rnn_imdb.pth\")\n",
    "filtered_dict = {k: v for k, v in state_dict.items() if not k.startswith(\"fc\")}\n",
    "model.load_state_dict(filtered_dict, strict=False)\n",
    "\n",
    "# freeze all except LoRA\n",
    "mark_only_lora_as_trainable(model)\n",
    "\n",
    "# Move to device\n",
    "device = torch.device(\"cuda\" if torch.cuda.is_available() else \"cpu\")\n",
    "model.to(device)\n",
    "\n",
    "# Define optimizer and loss\n",
    "optimizer = torch.optim.Adam(filter(lambda p: p.requires_grad, model.parameters()), lr=1e-3)\n",
    "criterion = nn.CrossEntropyLoss()\n"
   ]
  },
  {
   "cell_type": "markdown",
   "id": "3225fd39",
   "metadata": {},
   "source": [
    "Train model"
   ]
  },
  {
   "cell_type": "code",
   "execution_count": 10,
   "id": "50970df8",
   "metadata": {},
   "outputs": [
    {
     "name": "stdout",
     "output_type": "stream",
     "text": [
      "Epoch 1, Loss: 1.3767\n",
      "Epoch 2, Loss: 1.3739\n",
      "Epoch 3, Loss: 1.3739\n",
      "Epoch 4, Loss: 1.3735\n",
      "Epoch 5, Loss: 1.3737\n",
      "Epoch 6, Loss: 1.3740\n",
      "Epoch 7, Loss: 1.3737\n",
      "Epoch 8, Loss: 1.3755\n",
      "Epoch 9, Loss: 1.3750\n",
      "Epoch 10, Loss: 1.3749\n",
      "Epoch 11, Loss: 1.3749\n",
      "Epoch 12, Loss: 1.3756\n",
      "Epoch 13, Loss: 1.3771\n",
      "Epoch 14, Loss: 1.3777\n",
      "Epoch 15, Loss: 1.3765\n",
      "Epoch 16, Loss: 1.3757\n",
      "Epoch 17, Loss: 1.3754\n",
      "Epoch 18, Loss: 1.3753\n",
      "Epoch 19, Loss: 1.3762\n",
      "Epoch 20, Loss: 1.3773\n"
     ]
    }
   ],
   "source": [
    "for epoch in range(20):\n",
    "    model.train()\n",
    "    total_loss = 0\n",
    "    for batch in train_loader:\n",
    "        input_ids = batch[\"input_ids\"].to(device)\n",
    "        labels = batch[\"label\"].to(device)\n",
    "\n",
    "        outputs = model(input_ids)\n",
    "        loss = criterion(outputs, labels)\n",
    "\n",
    "        optimizer.zero_grad()\n",
    "        loss.backward()\n",
    "        optimizer.step()\n",
    "\n",
    "        total_loss += loss.item()\n",
    "\n",
    "    print(f\"Epoch {epoch+1}, Loss: {total_loss / len(train_loader):.4f}\")"
   ]
  },
  {
   "cell_type": "markdown",
   "id": "f7485d73",
   "metadata": {},
   "source": [
    "Evaluation"
   ]
  },
  {
   "cell_type": "code",
   "execution_count": 11,
   "id": "9ff777ba",
   "metadata": {},
   "outputs": [
    {
     "name": "stdout",
     "output_type": "stream",
     "text": [
      "Test Accuracy: 28.46%\n"
     ]
    }
   ],
   "source": [
    "model.eval()\n",
    "correct = 0\n",
    "total = 0\n",
    "with torch.no_grad():\n",
    "    for batch in test_loader:\n",
    "        input_ids = batch[\"input_ids\"].to(device)\n",
    "        labels = batch[\"label\"].to(device)\n",
    "\n",
    "        outputs = model(input_ids)\n",
    "        predicted = torch.argmax(outputs, dim=1)\n",
    "        correct += (predicted == labels).sum().item()\n",
    "        total += labels.size(0)\n",
    "\n",
    "print(f\"Test Accuracy: {correct / total:.2%}\")\n",
    "\n"
   ]
  },
  {
   "cell_type": "code",
   "execution_count": null,
   "id": "4db880a8",
   "metadata": {},
   "outputs": [],
   "source": []
  }
 ],
 "metadata": {
  "kernelspec": {
   "display_name": "base",
   "language": "python",
   "name": "python3"
  },
  "language_info": {
   "codemirror_mode": {
    "name": "ipython",
    "version": 3
   },
   "file_extension": ".py",
   "mimetype": "text/x-python",
   "name": "python",
   "nbconvert_exporter": "python",
   "pygments_lexer": "ipython3",
   "version": "3.12.7"
  }
 },
 "nbformat": 4,
 "nbformat_minor": 5
}
