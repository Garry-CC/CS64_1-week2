{
 "cells": [
  {
   "cell_type": "code",
   "execution_count": 1,
   "id": "676bee67",
   "metadata": {},
   "outputs": [],
   "source": [
    "import torch\n",
    "import torch.nn as nn\n",
    "from torch.utils.data import DataLoader\n",
    "from datasets import load_dataset\n",
    "from transformers import BertTokenizer"
   ]
  },
  {
   "cell_type": "code",
   "execution_count": 2,
   "id": "50ad5e47",
   "metadata": {},
   "outputs": [],
   "source": [
    "# 1. Load dataset\n",
    "dataset = load_dataset(\"imdb\")"
   ]
  },
  {
   "cell_type": "code",
   "execution_count": 3,
   "id": "1f786084",
   "metadata": {},
   "outputs": [],
   "source": [
    "# 2. Load BERT tokenizer\n",
    "tokenizer = BertTokenizer.from_pretrained(\"bert-base-uncased\")\n",
    "\n",
    "# 3. Encode texts with tokenizer\n",
    "def encode_with_bert(example):\n",
    "    tokens = tokenizer(\n",
    "        example[\"text\"],\n",
    "        truncation=True,\n",
    "        padding='max_length',\n",
    "        max_length=128,\n",
    "    )\n",
    "    return {\n",
    "        \"input_ids\": tokens[\"input_ids\"],\n",
    "        \"attention_mask\": tokens[\"attention_mask\"],\n",
    "        \"label\": example[\"label\"]\n",
    "    }\n",
    "\n",
    "encoded_dataset = dataset.map(encode_with_bert, batched=True)\n",
    "encoded_dataset.set_format(type=\"torch\", columns=[\"input_ids\", \"attention_mask\", \"label\"])\n"
   ]
  },
  {
   "cell_type": "code",
   "execution_count": 4,
   "id": "c09151f1",
   "metadata": {},
   "outputs": [],
   "source": [
    "# 4. Prepare DataLoader\n",
    "train_loader = DataLoader(encoded_dataset[\"train\"], batch_size=32, shuffle=True)\n",
    "test_loader = DataLoader(encoded_dataset[\"test\"], batch_size=32)\n",
    "\n",
    "# 5. Define LSTM-based model (without LoRA)\n",
    "class StandardLSTMCell(nn.Module):\n",
    "    def __init__(self, input_size, hidden_size):\n",
    "        super().__init__()\n",
    "        self.i2h = nn.Linear(input_size, 4 * hidden_size)\n",
    "        self.h2h = nn.Linear(hidden_size, 4 * hidden_size)\n",
    "        self.hidden_size = hidden_size\n",
    "\n",
    "    def forward(self, x, hidden):\n",
    "        h, c = hidden\n",
    "        gates = self.i2h(x) + self.h2h(h)\n",
    "        i, f, g, o = gates.chunk(4, 1)\n",
    "        i, f, g, o = torch.sigmoid(i), torch.sigmoid(f), torch.tanh(g), torch.sigmoid(o)\n",
    "        c_next = f * c + i * g\n",
    "        h_next = o * torch.tanh(c_next)\n",
    "        return h_next, c_next\n",
    "\n",
    "\n",
    "class TextLSTM(nn.Module):\n",
    "    def __init__(self, vocab_size, embed_dim, hidden_dim, num_classes):\n",
    "        super().__init__()\n",
    "        self.embedding = nn.Embedding(vocab_size, embed_dim)\n",
    "        self.lstm_cell = StandardLSTMCell(embed_dim, hidden_dim)\n",
    "        self.hidden_dim = hidden_dim\n",
    "        self.fc = nn.Linear(hidden_dim, num_classes)\n",
    "\n",
    "    def forward(self, input_ids):\n",
    "        embedded = self.embedding(input_ids)\n",
    "        batch_size, seq_len, _ = embedded.size()\n",
    "        h_t = torch.zeros(batch_size, self.hidden_dim, device=embedded.device)\n",
    "        c_t = torch.zeros(batch_size, self.hidden_dim, device=embedded.device)\n",
    "\n",
    "        for t in range(seq_len):\n",
    "            h_t, c_t = self.lstm_cell(embedded[:, t, :], (h_t, c_t))\n",
    "\n",
    "        return self.fc(h_t)\n"
   ]
  },
  {
   "cell_type": "code",
   "execution_count": 5,
   "id": "7c8e6536",
   "metadata": {},
   "outputs": [],
   "source": [
    "# 6. Initialize model\n",
    "model = TextLSTM(\n",
    "    vocab_size=tokenizer.vocab_size,\n",
    "    embed_dim=128,\n",
    "    hidden_dim=128,\n",
    "    num_classes=2\n",
    ")\n",
    "device = torch.device(\"cuda\" if torch.cuda.is_available() else \"cpu\")\n",
    "model.to(device)\n",
    "\n",
    "# 7. Define optimizer and loss\n",
    "optimizer = torch.optim.Adam(model.parameters(), lr=1e-3)\n",
    "criterion = nn.CrossEntropyLoss()\n"
   ]
  },
  {
   "cell_type": "code",
   "execution_count": 6,
   "id": "1fd93a23",
   "metadata": {},
   "outputs": [
    {
     "name": "stdout",
     "output_type": "stream",
     "text": [
      "Epoch 1, Loss: 0.6914\n",
      "Epoch 2, Loss: 0.6653\n",
      "Epoch 3, Loss: 0.4977\n",
      "Epoch 4, Loss: 0.3271\n",
      "Epoch 5, Loss: 0.2341\n",
      "Epoch 6, Loss: 0.1571\n",
      "Epoch 7, Loss: 0.0940\n",
      "Epoch 8, Loss: 0.0561\n",
      "Epoch 9, Loss: 0.0356\n",
      "Epoch 10, Loss: 0.0254\n",
      "Epoch 11, Loss: 0.0221\n",
      "Epoch 12, Loss: 0.0167\n",
      "Epoch 13, Loss: 0.0188\n",
      "Epoch 14, Loss: 0.0093\n",
      "Epoch 15, Loss: 0.0101\n",
      "Epoch 16, Loss: 0.0102\n",
      "Epoch 17, Loss: 0.0079\n",
      "Epoch 18, Loss: 0.0072\n",
      "Epoch 19, Loss: 0.0126\n",
      "Epoch 20, Loss: 0.0060\n"
     ]
    }
   ],
   "source": [
    "# 8. Train model\n",
    "for epoch in range(20):\n",
    "    model.train()\n",
    "    total_loss = 0\n",
    "    for batch in train_loader:\n",
    "        input_ids = batch[\"input_ids\"].to(device)\n",
    "        labels = batch[\"label\"].to(device)\n",
    "\n",
    "        outputs = model(input_ids)\n",
    "        loss = criterion(outputs, labels)\n",
    "\n",
    "        optimizer.zero_grad()\n",
    "        loss.backward()\n",
    "        optimizer.step()\n",
    "\n",
    "        total_loss += loss.item()\n",
    "\n",
    "    print(f\"Epoch {epoch+1}, Loss: {total_loss / len(train_loader):.4f}\")\n",
    "torch.save(model.state_dict(), \"lstm_imdb.pth\")"
   ]
  },
  {
   "cell_type": "code",
   "execution_count": null,
   "id": "0cac0868",
   "metadata": {},
   "outputs": [
    {
     "name": "stdout",
     "output_type": "stream",
     "text": [
      "Test Accuracy: 77.83%\n"
     ]
    }
   ],
   "source": [
    "# 9. Evaluation\n",
    "model.eval()\n",
    "correct = 0\n",
    "total = 0\n",
    "with torch.no_grad():\n",
    "    for batch in test_loader:\n",
    "        input_ids = batch[\"input_ids\"].to(device)\n",
    "        labels = batch[\"label\"].to(device)\n",
    "\n",
    "        outputs = model(input_ids)\n",
    "        predicted = torch.argmax(outputs, dim=1)\n",
    "        correct += (predicted == labels).sum().item()\n",
    "        total += labels.size(0)\n",
    "\n",
    "print(f\"Test Accuracy: {correct / total:.2%}\")\n",
    "\n"
   ]
  }
 ],
 "metadata": {
  "kernelspec": {
   "display_name": "base",
   "language": "python",
   "name": "python3"
  },
  "language_info": {
   "codemirror_mode": {
    "name": "ipython",
    "version": 3
   },
   "file_extension": ".py",
   "mimetype": "text/x-python",
   "name": "python",
   "nbconvert_exporter": "python",
   "pygments_lexer": "ipython3",
   "version": "3.12.7"
  }
 },
 "nbformat": 4,
 "nbformat_minor": 5
}
