{
 "cells": [
  {
   "cell_type": "code",
   "execution_count": 10,
   "id": "40f42a32",
   "metadata": {},
   "outputs": [],
   "source": [
    "import torch\n",
    "import torch.nn as nn\n",
    "from torch.utils.data import DataLoader\n",
    "from datasets import load_dataset\n",
    "from transformers import BertTokenizer\n",
    "from loralib.layers import Linear\n",
    "from loralib.utils import mark_only_lora_as_trainable"
   ]
  },
  {
   "cell_type": "markdown",
   "id": "0d6d888b",
   "metadata": {},
   "source": [
    "upload dataset"
   ]
  },
  {
   "cell_type": "code",
   "execution_count": 11,
   "id": "c67e41f0",
   "metadata": {},
   "outputs": [
    {
     "name": "stdout",
     "output_type": "stream",
     "text": [
      "{'text': \"Wall St. Bears Claw Back Into the Black (Reuters) Reuters - Short-sellers, Wall Street's dwindling\\\\band of ultra-cynics, are seeing green again.\", 'label': 2}\n"
     ]
    }
   ],
   "source": [
    "dataset = load_dataset(\"ag_news\")\n",
    "print(dataset[\"train\"][0])"
   ]
  },
  {
   "cell_type": "markdown",
   "id": "f8aaa2aa",
   "metadata": {},
   "source": [
    "BERT pre-training"
   ]
  },
  {
   "cell_type": "code",
   "execution_count": 12,
   "id": "85a48629",
   "metadata": {},
   "outputs": [],
   "source": [
    "tokenizer = BertTokenizer.from_pretrained('bert-base-uncased') # BERT分词器分词\n",
    "\n",
    "def encode_with_bert(example):\n",
    "    tokens = tokenizer(\n",
    "        example[\"text\"],\n",
    "        truncation=True,\n",
    "        padding='max_length',\n",
    "        max_length=128,\n",
    "    )\n",
    "    return {\n",
    "        \"input_ids\": tokens[\"input_ids\"],\n",
    "        \"attention_mask\": tokens[\"attention_mask\"],\n",
    "        \"label\": example[\"label\"]\n",
    "    }\n",
    "\n",
    "encoded_dataset = dataset.map(encode_with_bert, batched=True) # Hugging Face Datasets库的map函数批量处理数据\n",
    "\n",
    "encoded_dataset.set_format(type=\"torch\", columns=[\"input_ids\", \"attention_mask\", \"label\"]) # 设置数据格式为PyTorch张量，并指定需要的列\n"
   ]
  },
  {
   "cell_type": "markdown",
   "id": "8d0d1ce4",
   "metadata": {},
   "source": [
    "Prepare DataLoader"
   ]
  },
  {
   "cell_type": "code",
   "execution_count": 13,
   "id": "21045cce",
   "metadata": {},
   "outputs": [],
   "source": [
    "train_loader = DataLoader(encoded_dataset[\"train\"], batch_size=32, shuffle=True)\n",
    "test_loader = DataLoader(encoded_dataset[\"test\"], batch_size=32)"
   ]
  },
  {
   "cell_type": "markdown",
   "id": "27078686",
   "metadata": {},
   "source": [
    "Define RNN model with LoRA classification head"
   ]
  },
  {
   "cell_type": "code",
   "execution_count": 17,
   "id": "9216bae9",
   "metadata": {},
   "outputs": [],
   "source": [
    "class CustomTransformerEncoderLayer(nn.Module):\n",
    "    def __init__(self, d_model, nhead):\n",
    "        super().__init__()\n",
    "        self.self_attn = nn.MultiheadAttention(d_model, nhead, batch_first=True)\n",
    "        self.self_attn.q_proj = Linear(d_model, d_model, r=8)\n",
    "        self.self_attn.v_proj = Linear(d_model, d_model, r=8)\n",
    "        self.linear1 = nn.Linear(d_model, d_model * 4)\n",
    "        self.dropout = nn.Dropout(0.1)\n",
    "        self.linear2 = nn.Linear(d_model * 4, d_model)\n",
    "        self.norm1 = nn.LayerNorm(d_model)\n",
    "        self.norm2 = nn.LayerNorm(d_model)\n",
    "        self.dropout1 = nn.Dropout(0.1)\n",
    "        self.dropout2 = nn.Dropout(0.1)\n",
    "\n",
    "    def forward(self, src, src_mask=None):\n",
    "        q = self.self_attn.q_proj(src)\n",
    "        v = self.self_attn.v_proj(src)\n",
    "        attn_output, _ = self.self_attn(q, src, v, attn_mask=src_mask)\n",
    "        src = src + self.dropout1(attn_output)\n",
    "        src = self.norm1(src)\n",
    "        ff_output = self.linear2(self.dropout(torch.relu(self.linear1(src))))\n",
    "        src = src + self.dropout2(ff_output)\n",
    "        src = self.norm2(src)\n",
    "        return src"
   ]
  },
  {
   "cell_type": "code",
   "execution_count": 18,
   "id": "90b2f518",
   "metadata": {},
   "outputs": [],
   "source": [
    "# Define Transformer-based model with LoRA on fc layer\n",
    "class TextTransformerWithLoRA(nn.Module):\n",
    "    def __init__(self, vocab_size, embed_dim, num_heads, num_layers, num_classes):\n",
    "        super().__init__()\n",
    "        self.embedding = nn.Embedding(vocab_size, embed_dim, padding_idx=0)\n",
    "        self.layers = nn.ModuleList([\n",
    "            CustomTransformerEncoderLayer(embed_dim, num_heads) for _ in range(num_layers)\n",
    "        ])\n",
    "        self.fc = nn.Linear(embed_dim, num_classes)\n",
    "\n",
    "    def forward(self, input_ids, attention_mask):\n",
    "        x = self.embedding(input_ids)\n",
    "        x = x.masked_fill(attention_mask.unsqueeze(-1) == 0, 0)\n",
    "        for layer in self.layers:\n",
    "            x = layer(x)\n",
    "        return self.fc(x[:, 0, :])\n"
   ]
  },
  {
   "cell_type": "code",
   "execution_count": 19,
   "id": "84a37eb5",
   "metadata": {},
   "outputs": [],
   "source": [
    "# Initialize model\n",
    "model = TextTransformerWithLoRA(\n",
    "    vocab_size=tokenizer.vocab_size,\n",
    "    embed_dim=128,\n",
    "    num_heads=4,\n",
    "    num_layers=2,\n",
    "    num_classes=4\n",
    ")\n",
    "# Load pretrained weights from IMDB except fc\n",
    "state_dict = torch.load(\"Transformer_imdb.pth\")\n",
    "filtered_dict = {k: v for k, v in state_dict.items() if not k.startswith(\"fc\")}\n",
    "model.load_state_dict(filtered_dict, strict=False)\n",
    "\n",
    "# freeze all except LoRA\n",
    "mark_only_lora_as_trainable(model)\n",
    "\n",
    "# Move to device\n",
    "device = torch.device(\"cuda\" if torch.cuda.is_available() else \"cpu\")\n",
    "model.to(device)\n",
    "\n",
    "# 7. Define optimizer and loss\n",
    "optimizer = torch.optim.Adam(filter(lambda p: p.requires_grad, model.parameters()), lr=1e-3)\n",
    "criterion = nn.CrossEntropyLoss()\n"
   ]
  },
  {
   "cell_type": "markdown",
   "id": "3225fd39",
   "metadata": {},
   "source": [
    "Train model"
   ]
  },
  {
   "cell_type": "code",
   "execution_count": 20,
   "id": "50970df8",
   "metadata": {},
   "outputs": [
    {
     "name": "stdout",
     "output_type": "stream",
     "text": [
      "Epoch 1, Loss: 1.0820\n",
      "Epoch 2, Loss: 0.8639\n",
      "Epoch 3, Loss: 0.7935\n",
      "Epoch 4, Loss: 0.7462\n",
      "Epoch 5, Loss: 0.7094\n",
      "Epoch 6, Loss: 0.6829\n",
      "Epoch 7, Loss: 0.6623\n",
      "Epoch 8, Loss: 0.6465\n",
      "Epoch 9, Loss: 0.6327\n",
      "Epoch 10, Loss: 0.6223\n",
      "Epoch 11, Loss: 0.6132\n",
      "Epoch 12, Loss: 0.6033\n",
      "Epoch 13, Loss: 0.5948\n",
      "Epoch 14, Loss: 0.5857\n",
      "Epoch 15, Loss: 0.5751\n",
      "Epoch 16, Loss: 0.5661\n",
      "Epoch 17, Loss: 0.5574\n",
      "Epoch 18, Loss: 0.5499\n",
      "Epoch 19, Loss: 0.5418\n",
      "Epoch 20, Loss: 0.5345\n"
     ]
    }
   ],
   "source": [
    "for epoch in range(20):\n",
    "    model.train()\n",
    "    total_loss = 0\n",
    "    for batch in train_loader:\n",
    "        input_ids = batch[\"input_ids\"].to(device)\n",
    "        attention_mask = batch[\"attention_mask\"].to(device)\n",
    "        labels = batch[\"label\"].to(device)\n",
    "\n",
    "        outputs = model(input_ids, attention_mask)\n",
    "        loss = criterion(outputs, labels)\n",
    "\n",
    "        optimizer.zero_grad()\n",
    "        loss.backward()\n",
    "        optimizer.step()\n",
    "\n",
    "        total_loss += loss.item()\n",
    "\n",
    "    print(f\"Epoch {epoch+1}, Loss: {total_loss / len(train_loader):.4f}\")"
   ]
  },
  {
   "cell_type": "markdown",
   "id": "f7485d73",
   "metadata": {},
   "source": [
    "Evaluation"
   ]
  },
  {
   "cell_type": "code",
   "execution_count": 21,
   "id": "9ff777ba",
   "metadata": {},
   "outputs": [
    {
     "name": "stdout",
     "output_type": "stream",
     "text": [
      "Test Accuracy: 80.78%\n"
     ]
    }
   ],
   "source": [
    "model.eval()\n",
    "correct = 0\n",
    "total = 0\n",
    "with torch.no_grad():\n",
    "    for batch in test_loader:\n",
    "        input_ids = batch[\"input_ids\"].to(device)\n",
    "        attention_mask = batch[\"attention_mask\"].to(device)\n",
    "        labels = batch[\"label\"].to(device)\n",
    "\n",
    "        outputs = model(input_ids, attention_mask)\n",
    "        predicted = torch.argmax(outputs, dim=1)\n",
    "        correct += (predicted == labels).sum().item()\n",
    "        total += labels.size(0)\n",
    "\n",
    "print(f\"Test Accuracy: {correct / total:.2%}\")\n",
    "\n"
   ]
  },
  {
   "cell_type": "code",
   "execution_count": null,
   "id": "4db880a8",
   "metadata": {},
   "outputs": [],
   "source": []
  }
 ],
 "metadata": {
  "kernelspec": {
   "display_name": "base",
   "language": "python",
   "name": "python3"
  },
  "language_info": {
   "codemirror_mode": {
    "name": "ipython",
    "version": 3
   },
   "file_extension": ".py",
   "mimetype": "text/x-python",
   "name": "python",
   "nbconvert_exporter": "python",
   "pygments_lexer": "ipython3",
   "version": "3.12.7"
  }
 },
 "nbformat": 4,
 "nbformat_minor": 5
}
