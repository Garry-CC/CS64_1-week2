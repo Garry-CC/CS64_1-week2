{
 "cells": [
  {
   "cell_type": "code",
   "execution_count": 1,
   "id": "676bee67",
   "metadata": {},
   "outputs": [],
   "source": [
    "import torch\n",
    "import torch.nn as nn\n",
    "from torch.utils.data import DataLoader\n",
    "from datasets import load_dataset\n",
    "from transformers import BertTokenizer"
   ]
  },
  {
   "cell_type": "code",
   "execution_count": 2,
   "id": "50ad5e47",
   "metadata": {},
   "outputs": [],
   "source": [
    "# 1. Load dataset\n",
    "dataset = load_dataset(\"imdb\")"
   ]
  },
  {
   "cell_type": "code",
   "execution_count": 3,
   "id": "1f786084",
   "metadata": {},
   "outputs": [],
   "source": [
    "# 2. Load BERT tokenizer\n",
    "tokenizer = BertTokenizer.from_pretrained(\"bert-base-uncased\")\n",
    "\n",
    "# 3. Encode texts with tokenizer\n",
    "def encode_with_bert(example):\n",
    "    tokens = tokenizer(\n",
    "        example[\"text\"],\n",
    "        truncation=True,\n",
    "        padding='max_length',\n",
    "        max_length=128,\n",
    "    )\n",
    "    return {\n",
    "        \"input_ids\": tokens[\"input_ids\"],\n",
    "        \"attention_mask\": tokens[\"attention_mask\"],\n",
    "        \"label\": example[\"label\"]\n",
    "    }\n",
    "\n",
    "encoded_dataset = dataset.map(encode_with_bert, batched=True)\n",
    "encoded_dataset.set_format(type=\"torch\", columns=[\"input_ids\", \"attention_mask\", \"label\"])\n"
   ]
  },
  {
   "cell_type": "code",
   "execution_count": 4,
   "id": "c09151f1",
   "metadata": {},
   "outputs": [],
   "source": [
    "# 4. Prepare DataLoader\n",
    "train_loader = DataLoader(encoded_dataset[\"train\"], batch_size=32, shuffle=True)\n",
    "test_loader = DataLoader(encoded_dataset[\"test\"], batch_size=32)\n",
    "\n",
    "# 5. Define Transformer-based model without LoRA\n",
    "class TextTransformer(nn.Module):\n",
    "    def __init__(self, vocab_size, embed_dim, num_heads, num_layers, num_classes):\n",
    "        super().__init__()\n",
    "        self.embedding = nn.Embedding(vocab_size, embed_dim, padding_idx=0)\n",
    "        encoder_layer = nn.TransformerEncoderLayer(d_model=embed_dim, nhead=num_heads, batch_first=True)\n",
    "        self.transformer = nn.TransformerEncoder(encoder_layer, num_layers=num_layers)\n",
    "        self.fc = nn.Linear(embed_dim, num_classes)\n",
    "\n",
    "    def forward(self, input_ids, attention_mask):\n",
    "        embedded = self.embedding(input_ids)\n",
    "        embedded = embedded.masked_fill(attention_mask.unsqueeze(-1) == 0, 0)\n",
    "        out = self.transformer(embedded)\n",
    "        out = out[:, 0, :]\n",
    "        return self.fc(out)\n",
    "\n"
   ]
  },
  {
   "cell_type": "code",
   "execution_count": 5,
   "id": "7c8e6536",
   "metadata": {},
   "outputs": [],
   "source": [
    "# 6. Initialize model\n",
    "model = TextTransformer(\n",
    "    vocab_size=tokenizer.vocab_size,\n",
    "    embed_dim=128,\n",
    "    num_heads=4,\n",
    "    num_layers=2,\n",
    "    num_classes=4\n",
    ")\n",
    "\n",
    "# Move to device\n",
    "device = torch.device(\"cuda\" if torch.cuda.is_available() else \"cpu\")\n",
    "model.to(device)\n",
    "\n",
    "# 7. Define optimizer and loss\n",
    "optimizer = torch.optim.Adam(model.parameters(), lr=1e-3)\n",
    "criterion = nn.CrossEntropyLoss()\n"
   ]
  },
  {
   "cell_type": "code",
   "execution_count": 6,
   "id": "1fd93a23",
   "metadata": {},
   "outputs": [
    {
     "name": "stdout",
     "output_type": "stream",
     "text": [
      "Epoch 1, Loss: 0.5836\n",
      "Epoch 2, Loss: 0.3887\n",
      "Epoch 3, Loss: 0.3054\n",
      "Epoch 4, Loss: 0.2398\n",
      "Epoch 5, Loss: 0.1846\n",
      "Epoch 6, Loss: 0.1450\n",
      "Epoch 7, Loss: 0.1095\n",
      "Epoch 8, Loss: 0.0861\n",
      "Epoch 9, Loss: 0.0745\n",
      "Epoch 10, Loss: 0.0668\n"
     ]
    }
   ],
   "source": [
    "# 8. Train model\n",
    "for epoch in range(10):\n",
    "    model.train()\n",
    "    total_loss = 0\n",
    "    for batch in train_loader:\n",
    "        input_ids = batch[\"input_ids\"].to(device)\n",
    "        attention_mask = batch[\"attention_mask\"].to(device)\n",
    "        labels = batch[\"label\"].to(device)\n",
    "\n",
    "        outputs = model(input_ids, attention_mask)\n",
    "        loss = criterion(outputs, labels)\n",
    "\n",
    "        optimizer.zero_grad()\n",
    "        loss.backward()\n",
    "        optimizer.step()\n",
    "\n",
    "        total_loss += loss.item()\n",
    "\n",
    "    print(f\"Epoch {epoch+1}, Loss: {total_loss / len(train_loader):.4f}\")\n",
    "torch.save(model.state_dict(), \"Transformer_imdb.pth\")"
   ]
  },
  {
   "cell_type": "code",
   "execution_count": 10,
   "id": "0cac0868",
   "metadata": {},
   "outputs": [
    {
     "name": "stdout",
     "output_type": "stream",
     "text": [
      "Test Accuracy: 77.24%\n"
     ]
    }
   ],
   "source": [
    "# 9. Evaluation\n",
    "model.eval()\n",
    "correct = 0\n",
    "total = 0\n",
    "with torch.no_grad():\n",
    "    for batch in test_loader:\n",
    "        input_ids = batch[\"input_ids\"].to(device)\n",
    "        attention_mask = batch[\"attention_mask\"].to(device)\n",
    "        labels = batch[\"label\"].to(device)\n",
    "\n",
    "        outputs = model(input_ids, attention_mask)\n",
    "        predicted = torch.argmax(outputs, dim=1)\n",
    "        correct += (predicted == labels).sum().item()\n",
    "        total += labels.size(0)\n",
    "\n",
    "print(f\"Test Accuracy: {correct / total:.2%}\")\n"
   ]
  },
  {
   "cell_type": "code",
   "execution_count": null,
   "id": "0cf1ec13",
   "metadata": {},
   "outputs": [],
   "source": []
  }
 ],
 "metadata": {
  "kernelspec": {
   "display_name": "base",
   "language": "python",
   "name": "python3"
  },
  "language_info": {
   "codemirror_mode": {
    "name": "ipython",
    "version": 3
   },
   "file_extension": ".py",
   "mimetype": "text/x-python",
   "name": "python",
   "nbconvert_exporter": "python",
   "pygments_lexer": "ipython3",
   "version": "3.12.7"
  }
 },
 "nbformat": 4,
 "nbformat_minor": 5
}
